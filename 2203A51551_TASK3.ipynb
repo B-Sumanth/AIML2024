{
  "nbformat": 4,
  "nbformat_minor": 0,
  "metadata": {
    "colab": {
      "provenance": []
    },
    "kernelspec": {
      "name": "python3",
      "display_name": "Python 3"
    },
    "language_info": {
      "name": "python"
    }
  },
  "cells": [
    {
      "cell_type": "code",
      "execution_count": 1,
      "metadata": {
        "colab": {
          "base_uri": "https://localhost:8080/"
        },
        "id": "7CH9-IskTXnD",
        "outputId": "97a46e90-f8df-4db9-d7a7-00a350c01496"
      },
      "outputs": [
        {
          "output_type": "stream",
          "name": "stdout",
          "text": [
            "   age  height\n",
            "0   12     115\n",
            "1   13     130\n",
            "2   46     167\n",
            "3   20     145\n",
            "4   34     153\n"
          ]
        }
      ],
      "source": [
        "import pandas as pd\n",
        "df_tsv = pd.read_csv('/content/2203A51551 - Sheet1.tsv', sep='\\t')\n",
        "print(df_tsv)"
      ]
    },
    {
      "cell_type": "code",
      "source": [
        "df_csv = pd.read_csv('/content/2203A51551 - Sheet1.csv')\n",
        "print(df_csv)"
      ],
      "metadata": {
        "colab": {
          "base_uri": "https://localhost:8080/"
        },
        "id": "XVclzQ71T0wI",
        "outputId": "768bc53b-da6d-4056-9e2b-57b7cff0d1df"
      },
      "execution_count": 2,
      "outputs": [
        {
          "output_type": "stream",
          "name": "stdout",
          "text": [
            "   age  height\n",
            "0   12     115\n",
            "1   13     130\n",
            "2   46     167\n",
            "3   20     145\n",
            "4   34     153\n"
          ]
        }
      ]
    },
    {
      "cell_type": "code",
      "source": [
        "df_xlsx = pd.read_excel(\"/content/2203A51551.xlsx\")\n",
        "print(df_xlsx)"
      ],
      "metadata": {
        "colab": {
          "base_uri": "https://localhost:8080/"
        },
        "id": "9eSROCamT4TT",
        "outputId": "55e7abba-9f88-433f-e500-91d954bbbe19"
      },
      "execution_count": 3,
      "outputs": [
        {
          "output_type": "stream",
          "name": "stdout",
          "text": [
            "   age  height\n",
            "0   12     115\n",
            "1   13     130\n",
            "2   46     167\n",
            "3   20     145\n",
            "4   34     153\n"
          ]
        }
      ]
    },
    {
      "cell_type": "code",
      "source": [
        "url = \"https://github.com/B-Sumanth/ALML-TASK-3.git\"\n",
        "df_url = pd.read_csv(url,'\\t')\n",
        "print(df_url)"
      ],
      "metadata": {
        "colab": {
          "base_uri": "https://localhost:8080/"
        },
        "id": "A78y5e8-T7kP",
        "outputId": "23456998-ad66-4bbe-e597-4c95183048d7"
      },
      "execution_count": 4,
      "outputs": [
        {
          "output_type": "stream",
          "name": "stderr",
          "text": [
            "<ipython-input-4-09290bc6d6e8>:2: FutureWarning: In a future version of pandas all arguments of read_csv except for the argument 'filepath_or_buffer' will be keyword-only.\n",
            "  df_url = pd.read_csv(url,'\\t')\n"
          ]
        },
        {
          "output_type": "stream",
          "name": "stdout",
          "text": [
            "                                        <!DOCTYPE html>\n",
            "0                                                 <html\n",
            "1                                             lang=\"en\"\n",
            "2       data-color-mode=\"auto\" data-light-theme=\"lig...\n",
            "3       data-a11y-animated-images=\"system\" data-a11y...\n",
            "4                                                     >\n",
            "...                                                 ...\n",
            "1260                                             </div>\n",
            "1261      <div id=\"js-global-screen-reader-notice\" c...\n",
            "1262      <div id=\"js-global-screen-reader-notice-as...\n",
            "1263                                            </body>\n",
            "1264                                            </html>\n",
            "\n",
            "[1265 rows x 1 columns]\n"
          ]
        }
      ]
    }
  ]
}